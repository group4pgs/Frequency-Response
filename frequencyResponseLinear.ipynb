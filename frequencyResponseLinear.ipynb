{
 "cells": [
  {
   "cell_type": "code",
   "execution_count": 23,
   "metadata": {},
   "outputs": [],
   "source": [
    "import numpy as np\n",
    "from scipy.optimize import curve_fit\n",
    "popt, pcov = [0],[0]"
   ]
  },
  {
   "cell_type": "code",
   "execution_count": 44,
   "metadata": {},
   "outputs": [],
   "source": [
    "def decibelFrequency(x,y):\n",
    "    popt=fittingCurve(x,y)\n",
    "    y0=max(y)/np.sqrt(2)\n",
    "    x=findx(y0,popt)\n",
    "    return x"
   ]
  },
  {
   "cell_type": "code",
   "execution_count": 64,
   "metadata": {},
   "outputs": [],
   "source": [
    "def findx(y0,popt):\n",
    "    x0,dx=0,0.01\n",
    "    approx=y0-f(x0,popt)\n",
    "    flag=True\n",
    "    while dx>1e-5:\n",
    "        if approx>0.1:\n",
    "            x0=x0+dx\n",
    "        elif approx<-0.1:\n",
    "            dx=dx/10\n",
    "            x0=x0+dx\n",
    "        else:\n",
    "            x0=x0\n",
    "        approx=y0-f(x0,popt)\n",
    "    return x0"
   ]
  },
  {
   "cell_type": "code",
   "execution_count": 65,
   "metadata": {},
   "outputs": [],
   "source": [
    "def func(x, a, b):\n",
    "    return a * np.exp(b * x)\n",
    "def fittingCurve(xD,yD):\n",
    "    popt, pcov = curve_fit(func, xD, yD)\n",
    "    return popt\n",
    "def f(x,popt):\n",
    "    return func(x,*popt)"
   ]
  },
  {
   "cell_type": "code",
   "execution_count": 66,
   "metadata": {},
   "outputs": [],
   "source": [
    "xD=np.linspace(0,4,1000)\n",
    "yD=func(xD,2,0.94)\n",
    "np.random.seed(1729)\n",
    "y_noise = 1.5 * np.random.normal(size=xD.size)\n",
    "yD = yD + y_noise"
   ]
  },
  {
   "cell_type": "code",
   "execution_count": 67,
   "metadata": {},
   "outputs": [
    {
     "data": {
      "text/plain": [
       "3.661109999999966"
      ]
     },
     "execution_count": 67,
     "metadata": {},
     "output_type": "execute_result"
    }
   ],
   "source": [
    "decibelFrequency(xD,yD)"
   ]
  },
  {
   "cell_type": "code",
   "execution_count": null,
   "metadata": {},
   "outputs": [],
   "source": []
  }
 ],
 "metadata": {
  "kernelspec": {
   "display_name": "Python 3",
   "language": "python",
   "name": "python3"
  },
  "language_info": {
   "codemirror_mode": {
    "name": "ipython",
    "version": 3
   },
   "file_extension": ".py",
   "mimetype": "text/x-python",
   "name": "python",
   "nbconvert_exporter": "python",
   "pygments_lexer": "ipython3",
   "version": "3.7.4"
  }
 },
 "nbformat": 4,
 "nbformat_minor": 2
}

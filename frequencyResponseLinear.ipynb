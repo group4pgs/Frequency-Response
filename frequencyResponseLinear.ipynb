{
 "cells": [
  {
   "cell_type": "code",
   "execution_count": 3,
   "metadata": {},
   "outputs": [],
   "source": [
    "import numpy as np\n",
    "from scipy.optimize import curve_fit\n",
    "popt, pcov = [0],[0]"
   ]
  },
  {
   "cell_type": "code",
   "execution_count": 4,
   "metadata": {},
   "outputs": [],
   "source": [
    "def decibelFrequency(x,y):\n",
    "    popt=fittingCurve(x,y)\n",
    "    y0=max(y)/np.sqrt(2)\n",
    "    x=findx(y0,popt)\n",
    "    return x"
   ]
  },
  {
   "cell_type": "code",
   "execution_count": 51,
   "metadata": {},
   "outputs": [],
   "source": [
    "def findx(y0,popt):\n",
    "    x0,dx=0,10\n",
    "    approx=y0-f(x0,popt)\n",
    "    flag=True\n",
    "    while dx>1e-5:\n",
    "        if approx<0:#What decides to calculate up or down\n",
    "            x0=x0+dx\n",
    "        else:\n",
    "            x0=x0-dx\n",
    "            dx=dx/10\n",
    "            x0=x0+dx\n",
    "        \n",
    "        approx=y0-f(x0,popt)\n",
    "    return x0"
   ]
  },
  {
   "cell_type": "code",
   "execution_count": 52,
   "metadata": {},
   "outputs": [],
   "source": [
    "def func(x, a, b):\n",
    "    #print(x)\n",
    "    return a*np.exp(b * x)\n",
    "def fittingCurve(xD,yD):\n",
    "    popt, pcov = curve_fit(funcPoly, xD, yD)\n",
    "    return popt\n",
    "def f(x,popt):\n",
    "    return funcPoly(x,*popt)"
   ]
  },
  {
   "cell_type": "code",
   "execution_count": 53,
   "metadata": {},
   "outputs": [],
   "source": [
    "xD,yD=[100,200,500,1000,2000,5000,10000,12000,15000],[2.4,2.4,2.4,2.4,2.4,2.4,1.8,1.7,1.6]\n"
   ]
  },
  {
   "cell_type": "code",
   "execution_count": 54,
   "metadata": {},
   "outputs": [
    {
     "data": {
      "text/plain": [
       "11501.316509999999"
      ]
     },
     "execution_count": 54,
     "metadata": {},
     "output_type": "execute_result"
    }
   ],
   "source": [
    "decibelFrequency(xD,yD)"
   ]
  },
  {
   "cell_type": "code",
   "execution_count": 46,
   "metadata": {},
   "outputs": [
    {
     "data": {
      "image/png": "[encoded data removed]",
      "text/plain": [
       "<Figure size 432x288 with 1 Axes>"
      ]
     },
     "metadata": {
      "needs_background": "light"
     },
     "output_type": "display_data"
    }
   ],
   "source": [
    "import matplotlib.pyplot as plt\n",
    "plt.plot(xD,yD)\n",
    "#plt.plot(xD,f(xD,fittingCurve(xD,yD)))\n",
    "plt.show()"
   ]
  },
  {
   "cell_type": "code",
   "execution_count": 49,
   "metadata": {},
   "outputs": [
    {
     "data": {
      "text/plain": [
       "3.6505100000000006"
      ]
     },
     "execution_count": 49,
     "metadata": {},
     "output_type": "execute_result"
    }
   ],
   "source": [
    "xD=np.linspace(0,4,1000)\n",
    "yD=funcExp(xD,2,0.94)\n",
    "np.random.seed(1729)\n",
    "y_noise = 1.5 * np.random.normal(size=xD.size)\n",
    "yD = yD + y_noise\n",
    "decibelFrequency(xD,yD)"
   ]
  },
  {
   "cell_type": "code",
   "execution_count": 37,
   "metadata": {},
   "outputs": [
    {
     "name": "stdout",
     "output_type": "stream",
     "text": [
      "e ->  7.591570486056122e-11\n",
      "e- ->  nan\n",
      "sin ->  0.0767974218749215\n",
      "cos ->  0.0003557547657336715\n",
      "st line ->  0.005747928988817784\n",
      "poly ->  1.4269016026340065e-14\n"
     ]
    }
   ],
   "source": [
    "def funcExp(x, a, b):\n",
    "    #print(x)\n",
    "    return a*np.exp(b * x)\n",
    "def funcMExp(x, a, b, c):\n",
    "    return a * np.exp(-b * x)\n",
    "def funcSin(x, a, b): \n",
    "    return a * np.sin(b * x) \n",
    "def funcCos(x, a, b): \n",
    "    return a * np.cos(b * x) \n",
    "def funcLin(x,a,b):\n",
    "    return x*a+b\n",
    "def funcPoly(x,a,b,c,d,e):\n",
    "    return a+b*x+c*x**2+d*x**3+e*x**4\n",
    "\n",
    "\n",
    "\n",
    "def fittingCurve(xD,yD):\n",
    "    popt, pcov = curve_fit(func, xD, yD)\n",
    "    return pcov\n",
    "def f(x,popt):\n",
    "    return func(x,*popt)\n",
    "\n",
    "popt, pcov = curve_fit(funcExp, xD, yD)\n",
    "print(\"e -> \",np.linalg.det(pcov))\n",
    "popt, pcov = curve_fit(funcMExp, xD, yD)\n",
    "print(\"e- -> \",np.linalg.det(pcov))\n",
    "popt, pcov = curve_fit(funcSin, xD, yD)\n",
    "print(\"sin -> \",np.linalg.det(pcov))\n",
    "popt, pcov = curve_fit(funcCos, xD, yD)\n",
    "print(\"cos -> \",np.linalg.det(pcov))\n",
    "popt, pcov = curve_fit(funcLin, xD, yD)\n",
    "print(\"st line -> \",np.linalg.det(pcov))\n",
    "popt, pcov = curve_fit(funcPoly, xD, yD)\n",
    "print(\"poly -> \",np.linalg.det(pcov))"
   ]
  },
  {
   "cell_type": "code",
   "execution_count": 38,
   "metadata": {},
   "outputs": [
    {
     "data": {
      "text/plain": [
       "array([ 2.18771434, -0.43961536,  4.57615636, -1.82421342,  0.50118751])"
      ]
     },
     "execution_count": 38,
     "metadata": {},
     "output_type": "execute_result"
    }
   ],
   "source": [
    "popt"
   ]
  },
  {
   "cell_type": "code",
   "execution_count": 50,
   "metadata": {},
   "outputs": [
    {
     "name": "stdout",
     "output_type": "stream",
     "text": [
      "10520.336909999996\n"
     ]
    }
   ],
   "source": [
    "xD,yD=[100,200,500,1000,2000,5000,10000,12000,15000,18000,20000,50000],[0,0.05,0.07,0.15,0.3,0.7,1.2,1.4,1.6,1.8,1.8,1.8]\n",
    "print(decibelFrequency(xD,yD))"
   ]
  },
  {
   "cell_type": "code",
   "execution_count": null,
   "metadata": {},
   "outputs": [],
   "source": []
  }
 ],
 "metadata": {
  "kernelspec": {
   "display_name": "Python 3",
   "language": "python",
   "name": "python3"
  },
  "language_info": {
   "codemirror_mode": {
    "name": "ipython",
    "version": 3
   },
   "file_extension": ".py",
   "mimetype": "text/x-python",
   "name": "python",
   "nbconvert_exporter": "python",
   "pygments_lexer": "ipython3",
   "version": "3.7.4"
  }
 },
 "nbformat": 4,
 "nbformat_minor": 2
}
